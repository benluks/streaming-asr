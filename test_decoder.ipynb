{
 "cells": [
  {
   "cell_type": "code",
   "execution_count": null,
   "id": "2d0219f3-e5c3-40eb-8007-3eb0d83da74a",
   "metadata": {},
   "outputs": [],
   "source": [
    "import logging\n",
    "logging.getLogger(\"speechbrain\").setLevel(logging.WARNING)\n",
    "\n",
    "import torch\n",
    "from torchaudio.io import StreamReader\n",
    "from asr import load_asr_model, transcribe\n",
    "from decoder import build_decoder"
   ]
  },
  {
   "cell_type": "code",
   "execution_count": 109,
   "id": "4f614f40-ca52-42b4-81be-1ed811e04cdf",
   "metadata": {},
   "outputs": [],
   "source": [
    "import numpy as np\n",
    "from IPython.display import Audio"
   ]
  },
  {
   "cell_type": "code",
   "execution_count": 1052,
   "id": "dcd435fe-4f54-4731-a995-b832ffa71cad",
   "metadata": {},
   "outputs": [
    {
     "name": "stderr",
     "output_type": "stream",
     "text": [
      "INFO:pyctcdecode.alphabet:Alphabet determined to be of BPE style.\n",
      "WARNING:pyctcdecode.alphabet:UNK token ▁⁇▁ not found, is this a mistake?\n"
     ]
    }
   ],
   "source": [
    "CHUNK_SIZE = 8\n",
    "CHUNK_SAMPLES = 639\n",
    "SAMPLE_FILE = \"https://upload.wikimedia.org/wikipedia/commons/transcoded/9/97/Spoken_Wikipedia_-_One_Times_Square.ogg/Spoken_Wikipedia_-_One_Times_Square.ogg.mp3\"\n",
    "DECODE_BUFFER_LEN = 64\n",
    "\n",
    "asr_model, context = load_asr_model(CHUNK_SIZE, 2)\n",
    "decoder = build_decoder()\n",
    "tokenizer = asr_model.hparams.tokenizer\n",
    "\n",
    "sr = asr_model.hparams.sample_rate\n",
    "frames_per_chunk = CHUNK_SIZE * CHUNK_SAMPLES"
   ]
  },
  {
   "cell_type": "code",
   "execution_count": 1053,
   "id": "2d8e0f53-0845-407e-9f77-a90f97433e9e",
   "metadata": {},
   "outputs": [],
   "source": [
    "streamer = StreamReader(src=SAMPLE_FILE)\n",
    "streamer.add_basic_audio_stream(\n",
    "    frames_per_chunk=frames_per_chunk, sample_rate=sr, num_channels=1\n",
    ")\n",
    "stream = streamer.stream(timeout=-1)\n",
    "\n",
    "logits_buffer = np.empty((0, 1000))\n",
    "decoded_beams = []\n",
    "\n",
    "global_frame = 0\n",
    "saved_audio_chunks = torch.tensor([])"
   ]
  },
  {
   "cell_type": "code",
   "execution_count": 1054,
   "id": "be561252-385c-4a52-9a24-ef4522e4a220",
   "metadata": {},
   "outputs": [],
   "source": [
    "def greedy_decode(logits, tokenizer, blank_id=0, decode_frame=0):\n",
    "    preds = logits.argmax(-1)\n",
    "    pred_frames = np.where(preds != blank_id)[-1]\n",
    "    filtered_preds = preds[pred_frames]\n",
    "    \n",
    "    tokens = [tokenizer.decode(pred) for pred in filtered_preds.tolist()]\n",
    "    \n",
    "    return  tokens, filtered_preds, pred_frames + decode_frame"
   ]
  },
  {
   "cell_type": "code",
   "execution_count": 1055,
   "id": "aa8cb589-5dc6-4163-ac25-ebcbffa7068b",
   "metadata": {},
   "outputs": [],
   "source": [
    "output_text = []\n",
    "output_frames_start = np.array([])\n",
    "output_frames_end = np.array([])\n",
    "decoding_start = 0\n",
    "current_frame = 0\n",
    "\n",
    "correction_start_idx = 0\n",
    "correction_end_idx = 0"
   ]
  },
  {
   "cell_type": "code",
   "execution_count": 1056,
   "id": "474badcf-1d41-4968-8a69-b799a5d1e7d7",
   "metadata": {},
   "outputs": [],
   "source": [
    "# #####\n",
    "# LOOP\n",
    "# #####"
   ]
  },
  {
   "cell_type": "code",
   "execution_count": 1057,
   "id": "49944611-731a-42ba-8b42-bc935a23c27e",
   "metadata": {},
   "outputs": [],
   "source": [
    "# get chunk\n",
    "(chunk,) = next(stream)\n",
    "chunk = chunk.squeeze(-1).unsqueeze(0).float()\n",
    "\n",
    "# save the tail of the audio\n",
    "saved_audio_chunks = torch.cat((saved_audio_chunks, chunk), -1)\n",
    "saved_audio_chunks = saved_audio_chunks[:, -min(saved_audio_chunks.size(-1), DECODE_BUFFER_LEN * CHUNK_SAMPLES):]\n",
    "\n",
    "# run inference\n",
    "with torch.no_grad():\n",
    "    logits, words = transcribe(asr_model, context, chunk)\n",
    "\n",
    "# update buffer\n",
    "logits_buffer = np.concatenate((logits_buffer, logits[0].numpy()))\n",
    "logits_buffer = logits_buffer[-min(logits_buffer.shape[1], DECODE_BUFFER_LEN):, :]\n",
    "\n",
    "# decode new tokens\n",
    "tokens, _, frames_nums = greedy_decode(logits[0], tokenizer, blank_id=0, decode_frame=current_frame)\n",
    "\n",
    "# update output\n",
    "output_text += tokens\n",
    "output_frames_start = np.concatenate((output_frames_start, frames_nums))\n",
    "output_frames_end = np.concatenate((output_frames_end, frames_nums+1))\n",
    "\n",
    "# update frame tracker\n",
    "current_frame += logits.size(1)"
   ]
  },
  {
   "cell_type": "code",
   "execution_count": 1058,
   "id": "59d87746-d7e7-45f5-9916-ab5f5eaf686f",
   "metadata": {},
   "outputs": [
    {
     "name": "stdout",
     "output_type": "stream",
     "text": [
      "Output: []\n",
      "Starts: []\n",
      "Ends:   []\n",
      "\n",
      "Current frame: 8\n",
      "Decoding start: 0\n"
     ]
    }
   ],
   "source": [
    "print(f\"Output: {output_text}\")\n",
    "print(f\"Starts: {output_frames_start}\")\n",
    "print(f\"Ends:   {output_frames_end}\")\n",
    "print()\n",
    "print(f\"Current frame: {current_frame}\") \n",
    "print(f\"Decoding start: {decoding_start}\")"
   ]
  },
  {
   "cell_type": "code",
   "execution_count": 1059,
   "id": "f47f4779-6d08-4b96-beea-f077ba8c7e18",
   "metadata": {},
   "outputs": [
    {
     "ename": "ValueError",
     "evalue": "not enough values to unpack (expected 2, got 0)",
     "output_type": "error",
     "traceback": [
      "\u001b[0;31m---------------------------------------------------------------------------\u001b[0m",
      "\u001b[0;31mValueError\u001b[0m                                Traceback (most recent call last)",
      "Cell \u001b[0;32mIn[1059], line 2\u001b[0m\n\u001b[1;32m      1\u001b[0m _, _, decoded_text_frames, \u001b[38;5;241m*\u001b[39m_ \u001b[38;5;241m=\u001b[39m decoder\u001b[38;5;241m.\u001b[39mdecode_beams(logits_buffer)[\u001b[38;5;241m0\u001b[39m]\n\u001b[0;32m----> 2\u001b[0m decoded_text, decoded_frames \u001b[38;5;241m=\u001b[39m \u001b[38;5;28mzip\u001b[39m(\u001b[38;5;241m*\u001b[39mdecoded_text_frames)\n\u001b[1;32m      3\u001b[0m decoded_start_frames, decoded_end_frames \u001b[38;5;241m=\u001b[39m \u001b[38;5;28mzip\u001b[39m(\u001b[38;5;241m*\u001b[39mdecoded_frames)\n\u001b[1;32m      5\u001b[0m decoded_start_frames \u001b[38;5;241m=\u001b[39m np\u001b[38;5;241m.\u001b[39marray(decoded_start_frames, np\u001b[38;5;241m.\u001b[39mint64) \u001b[38;5;241m+\u001b[39m decoding_start\n",
      "\u001b[0;31mValueError\u001b[0m: not enough values to unpack (expected 2, got 0)"
     ]
    }
   ],
   "source": [
    "_, _, decoded_text_frames, *_ = decoder.decode_beams(logits_buffer)[0]\n",
    "decoded_text, decoded_frames = zip(*decoded_text_frames)\n",
    "decoded_start_frames, decoded_end_frames = zip(*decoded_frames)\n",
    "\n",
    "decoded_start_frames = np.array(decoded_start_frames, np.int64) + decoding_start\n",
    "decoded_end_frames = np.array(decoded_end_frames, np.int64) + decoding_start\n",
    "\n",
    "print(f\"Decoded output: {decoded_text}\")\n",
    "print(f\"Decoded starts: {decoded_start_frames}\")\n",
    "print(f\"Decoded end:    {decoded_end_frames}\")"
   ]
  },
  {
   "cell_type": "code",
   "execution_count": 1060,
   "id": "de68ef55-64b8-48fa-9d96-610017e7e38c",
   "metadata": {},
   "outputs": [
    {
     "ename": "StopIteration",
     "evalue": "",
     "output_type": "error",
     "traceback": [
      "\u001b[0;31m---------------------------------------------------------------------------\u001b[0m",
      "\u001b[0;31mStopIteration\u001b[0m                             Traceback (most recent call last)",
      "Cell \u001b[0;32mIn[1060], line 3\u001b[0m\n\u001b[1;32m      1\u001b[0m decoding_start \u001b[38;5;241m+\u001b[39m\u001b[38;5;241m=\u001b[39m \u001b[38;5;241m8\u001b[39m\n\u001b[0;32m----> 3\u001b[0m a \u001b[38;5;241m+\u001b[39m\u001b[38;5;241m=\u001b[39m \u001b[38;5;28;43mnext\u001b[39;49m\u001b[43m(\u001b[49m\u001b[43m(\u001b[49m\u001b[43mi\u001b[49m\u001b[43m \u001b[49m\u001b[38;5;28;43;01mfor\u001b[39;49;00m\u001b[43m \u001b[49m\u001b[43mi\u001b[49m\u001b[43m,\u001b[49m\u001b[43m \u001b[49m\u001b[43mstart\u001b[49m\u001b[43m \u001b[49m\u001b[38;5;129;43;01min\u001b[39;49;00m\u001b[43m \u001b[49m\u001b[38;5;28;43menumerate\u001b[39;49m\u001b[43m(\u001b[49m\u001b[43moutput_frames_start\u001b[49m\u001b[43m[\u001b[49m\u001b[43ma\u001b[49m\u001b[43m:\u001b[49m\u001b[43m]\u001b[49m\u001b[43m)\u001b[49m\u001b[43m \u001b[49m\u001b[38;5;28;43;01mif\u001b[39;49;00m\u001b[43m \u001b[49m\u001b[43mstart\u001b[49m\u001b[43m \u001b[49m\u001b[38;5;241;43m>\u001b[39;49m\u001b[38;5;241;43m=\u001b[39;49m\u001b[43m \u001b[49m\u001b[43mdecoding_start\u001b[49m\u001b[43m)\u001b[49m\u001b[43m)\u001b[49m\n\u001b[1;32m      4\u001b[0m b \u001b[38;5;241m+\u001b[39m\u001b[38;5;241m=\u001b[39m \u001b[38;5;28mnext\u001b[39m((i \u001b[38;5;28;01mfor\u001b[39;00m i, end \u001b[38;5;129;01min\u001b[39;00m \u001b[38;5;28menumerate\u001b[39m(output_frames_end[b:]) \u001b[38;5;28;01mif\u001b[39;00m end \u001b[38;5;241m>\u001b[39m decoding_start \u001b[38;5;241m+\u001b[39m DECODE_BUFFER_LEN), \u001b[38;5;28mlen\u001b[39m(output_frames_end)\u001b[38;5;241m-\u001b[39mb)\n\u001b[1;32m      6\u001b[0m a,b\n",
      "\u001b[0;31mStopIteration\u001b[0m: "
     ]
    }
   ],
   "source": [
    "decoding_start += 8\n",
    "\n",
    "correction_start_idx += next((i for i, start in enumerate(output_frames_start[correction_start_idx:]) if start >= decoding_start))\n",
    "correction_end_idx += next((i for i, end in enumerate(output_frames_end[correction_end_idx:]) if end > decoding_start + DECODE_BUFFER_LEN), len(output_frames_end)-correction_end_idx)\n",
    "\n",
    "correction_start_idx, correction_end_idx"
   ]
  },
  {
   "cell_type": "code",
   "execution_count": 1061,
   "id": "7b058127-7ebe-4bc5-8e05-9226a47a7e51",
   "metadata": {},
   "outputs": [
    {
     "name": "stdout",
     "output_type": "stream",
     "text": [
      "Updated output: ['ENCYCLOPAEDIA']\n",
      "Updated starts: [124.]\n",
      "Updated ends:   [141.]\n"
     ]
    }
   ],
   "source": [
    "output_text = output_text[:correction_start_idx] + list(decoded_text) + output_text[correction_end_idx:]\n",
    "output_frames_start = np.concatenate((output_frames_start[:correction_start_idx], decoded_start_frames, output_frames_start[correction_end_idx:]))\n",
    "output_frames_end = np.concatenate((output_frames_end[:correction_start_idx], decoded_end_frames, output_frames_end[correction_end_idx:]))\n",
    "\n",
    "print(f\"Updated output: {output_text}\")\n",
    "print(f\"Updated starts: {output_frames_start}\")\n",
    "print(f\"Updated ends:   {output_frames_end}\")"
   ]
  },
  {
   "cell_type": "code",
   "execution_count": 1063,
   "id": "44a03e02-5eee-474e-ac05-334cdb1e77b8",
   "metadata": {},
   "outputs": [
    {
     "data": {
      "text/plain": [
       "(0, 1)"
      ]
     },
     "execution_count": 1063,
     "metadata": {},
     "output_type": "execute_result"
    }
   ],
   "source": [
    "correction_end_idx += (len(decoded_text) - (correction_end_idx-correction_start_idx))\n",
    "correction_start_idx, correction_end_idx"
   ]
  },
  {
   "cell_type": "code",
   "execution_count": null,
   "id": "b15f0018-b504-4b99-8b5e-98d8094cb315",
   "metadata": {},
   "outputs": [],
   "source": [
    "# END TEST HERE"
   ]
  },
  {
   "cell_type": "code",
   "execution_count": 813,
   "id": "50cd0e69-0125-4a52-bae0-67e489f8e2c8",
   "metadata": {},
   "outputs": [
    {
     "name": "stdout",
     "output_type": "stream",
     "text": [
      "2\n",
      "4\n"
     ]
    }
   ],
   "source": [
    "# run beam search\n",
    "if logits_buffer.shape[0] >= DECODE_BUFFER_LEN:\n",
    "    decoded_text, _, decoded_text_frames, *_ = decoder.decode_beams(logits_buffer)[0]\n",
    "\n",
    "    # only update what's within decoding window\n",
    "    correction_start_idx = next(\n",
    "    (i + correction_start_idx for i, start in enumerate(output_frames_start[correction_start_idx:])\n",
    "     if start >= decoding_start),\n",
    "    correction_start_idx\n",
    "    )\n",
    "    correction_end_idx = next(\n",
    "        (i + correction_end_idx for i, end in enumerate(output_frames_end[correction_end_idx:])\n",
    "         if end > decoding_start + DECODE_BUFFER_LEN),\n",
    "        len(output_frames_end)\n",
    "    )\n",
    "\n",
    "print(correction_start_idx)\n",
    "print(correction_end_idx)"
   ]
  },
  {
   "cell_type": "code",
   "execution_count": 814,
   "id": "31c6734f-47f8-40ac-a0d2-91b9defa3527",
   "metadata": {},
   "outputs": [
    {
     "name": "stdout",
     "output_type": "stream",
     "text": [
      "Before overwriting:\n",
      "Relevant output: ['SQUAR', 'E']\n",
      "Start times:     [ 8. 16. 26. 49.]\n",
      "\n",
      "Corrected output: ('ONE', 'TIME', 'SQUARE')\n",
      "Start/end times:  ((0, 1), (8, 9), (18, 26))\n"
     ]
    }
   ],
   "source": [
    "if logits_buffer.shape[0] >= DECODE_BUFFER_LEN:\n",
    "\n",
    "    decoded_text, decoded_frames = zip(*decoded_text_frames)\n",
    "    \n",
    "    # compare \n",
    "    print(\"Before overwriting:\")\n",
    "    print(f\"Relevant output: {output_text[correction_start_idx:correction_end_idx]}\")\n",
    "    print(f\"Start times:     {output_frames_start}\\n\")\n",
    "    \n",
    "    print(f\"Corrected output: {decoded_text}\")\n",
    "    print(f\"Start/end times:  {decoded_frames}\")"
   ]
  },
  {
   "cell_type": "code",
   "execution_count": 815,
   "id": "5d8cfcbf-ba51-4063-8b2a-ec93cd97fed3",
   "metadata": {},
   "outputs": [
    {
     "name": "stdout",
     "output_type": "stream",
     "text": [
      "New output: ['ONE', 'TIME', 'ONE', 'TIME', 'SQUARE']\n",
      "output start/end: (array([ 8., 16.,  0.,  8., 18.]), array([ 9., 17.,  1.,  9., 26.]))\n"
     ]
    },
    {
     "data": {
      "text/html": [
       "\n",
       "                <audio  controls=\"controls\" >\n",
       "                    <source src=\"data:audio/wav;base64,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\" type=\"audio/wav\" />\n",
       "                    Your browser does not support the audio element.\n",
       "                </audio>\n",
       "              "
      ],
      "text/plain": [
       "<IPython.lib.display.Audio object>"
      ]
     },
     "execution_count": 815,
     "metadata": {},
     "output_type": "execute_result"
    }
   ],
   "source": [
    "if logits_buffer.shape[0] >= DECODE_BUFFER_LEN:\n",
    "    # update outputs\n",
    "    output_text = output_text[:correction_start_idx] + list(decoded_text) + output_text[correction_end_idx:]\n",
    "    \n",
    "    decoded_starts, decoded_ends = zip(*decoded_frames)\n",
    "    output_frames_start = np.concatenate((output_frames_start[:correction_start_idx], list(decoded_starts), output_frames_start[correction_end_idx:]))\n",
    "    output_frames_end = np.concatenate((output_frames_end[:correction_start_idx], list(decoded_ends), output_frames_end[correction_end_idx:]))\n",
    "\n",
    "    print(f\"New output: {output_text}\")\n",
    "    print(f\"output start/end: {output_frames_start, output_frames_end}\")\n",
    "    \n",
    "    # update correction end pointer to account for resizing\n",
    "    correction_end_idx += len(decoded_text) - (correction_end_idx-correction_start_idx)\n",
    "    \n",
    "    # update decoding window\n",
    "    decoding_start += logits.size(1)\n",
    "\n",
    "# show beams\n",
    "# print(decoded_text_frames)\n",
    "\n",
    "# play audio that's just been rescored\n",
    "Audio(saved_audio_chunks, rate=sr)"
   ]
  }
 ],
 "metadata": {
  "kernelspec": {
   "display_name": "Python 3 (ipykernel)",
   "language": "python",
   "name": "python3"
  },
  "language_info": {
   "codemirror_mode": {
    "name": "ipython",
    "version": 3
   },
   "file_extension": ".py",
   "mimetype": "text/x-python",
   "name": "python",
   "nbconvert_exporter": "python",
   "pygments_lexer": "ipython3",
   "version": "3.10.14"
  }
 },
 "nbformat": 4,
 "nbformat_minor": 5
}
